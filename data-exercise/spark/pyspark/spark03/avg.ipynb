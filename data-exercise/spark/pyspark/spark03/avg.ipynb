{
 "cells": [
  {
   "cell_type": "markdown",
   "metadata": {
    "collapsed": false,
    "jupyter": {
     "outputs_hidden": false
    }
   },
   "source": [
    "# PySpark AVG"
   ]
  },
  {
   "metadata": {},
   "cell_type": "markdown",
   "source": ""
  },
  {
   "cell_type": "code",
   "metadata": {
    "collapsed": false,
    "jupyter": {
     "outputs_hidden": false
    },
    "ExecuteTime": {
     "end_time": "2024-07-03T10:53:15.662169Z",
     "start_time": "2024-07-03T10:53:14.213294Z"
    }
   },
   "source": [
    "import sys\n",
    "from pyspark import SparkContext\n",
    "\n",
    "def basic_avg(numbers):\n",
    "  \"\"\"Compute the avg\"\"\"\n",
    "  sum_count = numbers.map(lambda x: (x, 1)).fold(\n",
    "      (0, 0), (lambda x, y: (x[0] + y[0], x[1] + y[1])))\n",
    "  return sum_count[0] / float(sum_count[1])\n",
    "\n",
    "if __name__ == \"__main__\":\n",
    "  master = \"local\"\n",
    "  if len(sys.argv) == 2:\n",
    "    master = sys.argv[1]\n",
    "  sc = SparkContext(master, \"Sum\")\n",
    "  sc.setLogLevel(\"WARN\")\n",
    "  nums = sc.parallelize([1, 2, 3, 4])\n",
    "  avg = basic_avg(nums)\n",
    "  print(avg)\n",
    "  sc.stop()"
   ],
   "outputs": [
    {
     "name": "stdout",
     "output_type": "stream",
     "text": [
      "2.5\n"
     ]
    }
   ],
   "execution_count": 9
  },
  {
   "cell_type": "code",
   "metadata": {
    "ExecuteTime": {
     "end_time": "2024-07-03T10:47:37.210946Z",
     "start_time": "2024-07-03T10:47:37.207337Z"
    }
   },
   "source": [],
   "outputs": [],
   "execution_count": 2
  },
  {
   "cell_type": "code",
   "metadata": {},
   "source": [],
   "outputs": [],
   "execution_count": null
  }
 ],
 "metadata": {
  "kernelspec": {
   "display_name": "Python 3 (ipykernel)",
   "language": "python",
   "name": "python3"
  },
  "language_info": {
   "codemirror_mode": {
    "name": "ipython",
    "version": 3
   },
   "file_extension": ".py",
   "mimetype": "text/x-python",
   "name": "python",
   "nbconvert_exporter": "python",
   "pygments_lexer": "ipython3",
   "version": "3.9.6"
  }
 },
 "nbformat": 4,
 "nbformat_minor": 4
}
