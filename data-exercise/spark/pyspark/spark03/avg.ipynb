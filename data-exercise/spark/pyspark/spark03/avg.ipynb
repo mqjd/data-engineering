{
 "cells": [
  {
   "cell_type": "code",
   "execution_count": null,
   "metadata": {
    "collapsed": true
   },
   "outputs": [],
   "source": [
    "import sys\n",
    "from pyspark import SparkContext\n",
    "\n",
    "def basic_avg(nums):\n",
    "  \"\"\"Compute the avg\"\"\"\n",
    "  sum_count = nums.map(lambda x: (x, 1)).fold(\n",
    "      (0, 0), (lambda x, y: (x[0] + y[0], x[1] + y[1])))\n",
    "  return sum_count[0] / float(sum_count[1])\n",
    "\n",
    "if __name__ == \"__main__\":\n",
    "  master = \"local\"\n",
    "  if len(sys.argv) == 2:\n",
    "    master = sys.argv[1]\n",
    "  sc = SparkContext(master, \"Sum\")\n",
    "  nums = sc.parallelize([1, 2, 3, 4])\n",
    "  avg = basic_avg(nums)\n",
    "  print(avg)"
   ]
  }
 ],
 "metadata": {
  "kernelspec": {
   "display_name": "Python 3",
   "language": "python",
   "name": "python3"
  },
  "language_info": {
   "codemirror_mode": {
    "name": "ipython",
    "version": 2
   },
   "file_extension": ".py",
   "mimetype": "text/x-python",
   "name": "python",
   "nbconvert_exporter": "python",
   "pygments_lexer": "ipython2",
   "version": "2.7.6"
  }
 },
 "nbformat": 4,
 "nbformat_minor": 0
}
